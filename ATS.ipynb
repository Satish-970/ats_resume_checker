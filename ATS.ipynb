{
  "cells": [
    {
      "cell_type": "markdown",
      "metadata": {
        "id": "UBKZopwuicAa"
      },
      "source": [
        "Setting up the Colab Environment"
      ]
    },
    {
      "cell_type": "markdown",
      "metadata": {
        "id": "zyAzofCligwH"
      },
      "source": []
    },
    {
      "cell_type": "code",
      "execution_count": null,
      "metadata": {
        "colab": {
          "base_uri": "https://localhost:8080/"
        },
        "id": "rA7obNYnhCJE",
        "outputId": "e06642ba-aaa1-4d28-ba73-6e1a3a39c570"
      },
      "outputs": [
        {
          "name": "stdout",
          "output_type": "stream",
          "text": [
            "Requirement already satisfied: spacy in /usr/local/lib/python3.11/dist-packages (3.8.7)\n",
            "Requirement already satisfied: PyPDF2 in /usr/local/lib/python3.11/dist-packages (3.0.1)\n",
            "Requirement already satisfied: scikit-learn in /usr/local/lib/python3.11/dist-packages (1.6.1)\n",
            "Requirement already satisfied: spacy-legacy<3.1.0,>=3.0.11 in /usr/local/lib/python3.11/dist-packages (from spacy) (3.0.12)\n",
            "Requirement already satisfied: spacy-loggers<2.0.0,>=1.0.0 in /usr/local/lib/python3.11/dist-packages (from spacy) (1.0.5)\n",
            "Requirement already satisfied: murmurhash<1.1.0,>=0.28.0 in /usr/local/lib/python3.11/dist-packages (from spacy) (1.0.13)\n",
            "Requirement already satisfied: cymem<2.1.0,>=2.0.2 in /usr/local/lib/python3.11/dist-packages (from spacy) (2.0.11)\n",
            "Requirement already satisfied: preshed<3.1.0,>=3.0.2 in /usr/local/lib/python3.11/dist-packages (from spacy) (3.0.10)\n",
            "Requirement already satisfied: thinc<8.4.0,>=8.3.4 in /usr/local/lib/python3.11/dist-packages (from spacy) (8.3.6)\n",
            "Requirement already satisfied: wasabi<1.2.0,>=0.9.1 in /usr/local/lib/python3.11/dist-packages (from spacy) (1.1.3)\n",
            "Requirement already satisfied: srsly<3.0.0,>=2.4.3 in /usr/local/lib/python3.11/dist-packages (from spacy) (2.5.1)\n",
            "Requirement already satisfied: catalogue<2.1.0,>=2.0.6 in /usr/local/lib/python3.11/dist-packages (from spacy) (2.0.10)\n",
            "Requirement already satisfied: weasel<0.5.0,>=0.1.0 in /usr/local/lib/python3.11/dist-packages (from spacy) (0.4.1)\n",
            "Requirement already satisfied: typer<1.0.0,>=0.3.0 in /usr/local/lib/python3.11/dist-packages (from spacy) (0.16.0)\n",
            "Requirement already satisfied: tqdm<5.0.0,>=4.38.0 in /usr/local/lib/python3.11/dist-packages (from spacy) (4.67.1)\n",
            "Requirement already satisfied: numpy>=1.19.0 in /usr/local/lib/python3.11/dist-packages (from spacy) (2.0.2)\n",
            "Requirement already satisfied: requests<3.0.0,>=2.13.0 in /usr/local/lib/python3.11/dist-packages (from spacy) (2.32.3)\n",
            "Requirement already satisfied: pydantic!=1.8,!=1.8.1,<3.0.0,>=1.7.4 in /usr/local/lib/python3.11/dist-packages (from spacy) (2.11.7)\n",
            "Requirement already satisfied: jinja2 in /usr/local/lib/python3.11/dist-packages (from spacy) (3.1.6)\n",
            "Requirement already satisfied: setuptools in /usr/local/lib/python3.11/dist-packages (from spacy) (75.2.0)\n",
            "Requirement already satisfied: packaging>=20.0 in /usr/local/lib/python3.11/dist-packages (from spacy) (25.0)\n",
            "Requirement already satisfied: langcodes<4.0.0,>=3.2.0 in /usr/local/lib/python3.11/dist-packages (from spacy) (3.5.0)\n",
            "Requirement already satisfied: scipy>=1.6.0 in /usr/local/lib/python3.11/dist-packages (from scikit-learn) (1.16.1)\n",
            "Requirement already satisfied: joblib>=1.2.0 in /usr/local/lib/python3.11/dist-packages (from scikit-learn) (1.5.1)\n",
            "Requirement already satisfied: threadpoolctl>=3.1.0 in /usr/local/lib/python3.11/dist-packages (from scikit-learn) (3.6.0)\n",
            "Requirement already satisfied: language-data>=1.2 in /usr/local/lib/python3.11/dist-packages (from langcodes<4.0.0,>=3.2.0->spacy) (1.3.0)\n",
            "Requirement already satisfied: annotated-types>=0.6.0 in /usr/local/lib/python3.11/dist-packages (from pydantic!=1.8,!=1.8.1,<3.0.0,>=1.7.4->spacy) (0.7.0)\n",
            "Requirement already satisfied: pydantic-core==2.33.2 in /usr/local/lib/python3.11/dist-packages (from pydantic!=1.8,!=1.8.1,<3.0.0,>=1.7.4->spacy) (2.33.2)\n",
            "Requirement already satisfied: typing-extensions>=4.12.2 in /usr/local/lib/python3.11/dist-packages (from pydantic!=1.8,!=1.8.1,<3.0.0,>=1.7.4->spacy) (4.14.1)\n",
            "Requirement already satisfied: typing-inspection>=0.4.0 in /usr/local/lib/python3.11/dist-packages (from pydantic!=1.8,!=1.8.1,<3.0.0,>=1.7.4->spacy) (0.4.1)\n",
            "Requirement already satisfied: charset-normalizer<4,>=2 in /usr/local/lib/python3.11/dist-packages (from requests<3.0.0,>=2.13.0->spacy) (3.4.2)\n",
            "Requirement already satisfied: idna<4,>=2.5 in /usr/local/lib/python3.11/dist-packages (from requests<3.0.0,>=2.13.0->spacy) (3.10)\n",
            "Requirement already satisfied: urllib3<3,>=1.21.1 in /usr/local/lib/python3.11/dist-packages (from requests<3.0.0,>=2.13.0->spacy) (2.5.0)\n",
            "Requirement already satisfied: certifi>=2017.4.17 in /usr/local/lib/python3.11/dist-packages (from requests<3.0.0,>=2.13.0->spacy) (2025.8.3)\n",
            "Requirement already satisfied: blis<1.4.0,>=1.3.0 in /usr/local/lib/python3.11/dist-packages (from thinc<8.4.0,>=8.3.4->spacy) (1.3.0)\n",
            "Requirement already satisfied: confection<1.0.0,>=0.0.1 in /usr/local/lib/python3.11/dist-packages (from thinc<8.4.0,>=8.3.4->spacy) (0.1.5)\n",
            "Requirement already satisfied: click>=8.0.0 in /usr/local/lib/python3.11/dist-packages (from typer<1.0.0,>=0.3.0->spacy) (8.2.1)\n",
            "Requirement already satisfied: shellingham>=1.3.0 in /usr/local/lib/python3.11/dist-packages (from typer<1.0.0,>=0.3.0->spacy) (1.5.4)\n",
            "Requirement already satisfied: rich>=10.11.0 in /usr/local/lib/python3.11/dist-packages (from typer<1.0.0,>=0.3.0->spacy) (13.9.4)\n",
            "Requirement already satisfied: cloudpathlib<1.0.0,>=0.7.0 in /usr/local/lib/python3.11/dist-packages (from weasel<0.5.0,>=0.1.0->spacy) (0.21.1)\n",
            "Requirement already satisfied: smart-open<8.0.0,>=5.2.1 in /usr/local/lib/python3.11/dist-packages (from weasel<0.5.0,>=0.1.0->spacy) (7.3.0.post1)\n",
            "Requirement already satisfied: MarkupSafe>=2.0 in /usr/local/lib/python3.11/dist-packages (from jinja2->spacy) (3.0.2)\n",
            "Requirement already satisfied: marisa-trie>=1.1.0 in /usr/local/lib/python3.11/dist-packages (from language-data>=1.2->langcodes<4.0.0,>=3.2.0->spacy) (1.2.1)\n",
            "Requirement already satisfied: markdown-it-py>=2.2.0 in /usr/local/lib/python3.11/dist-packages (from rich>=10.11.0->typer<1.0.0,>=0.3.0->spacy) (3.0.0)\n",
            "Requirement already satisfied: pygments<3.0.0,>=2.13.0 in /usr/local/lib/python3.11/dist-packages (from rich>=10.11.0->typer<1.0.0,>=0.3.0->spacy) (2.19.2)\n",
            "Requirement already satisfied: wrapt in /usr/local/lib/python3.11/dist-packages (from smart-open<8.0.0,>=5.2.1->weasel<0.5.0,>=0.1.0->spacy) (1.17.2)\n",
            "Requirement already satisfied: mdurl~=0.1 in /usr/local/lib/python3.11/dist-packages (from markdown-it-py>=2.2.0->rich>=10.11.0->typer<1.0.0,>=0.3.0->spacy) (0.1.2)\n",
            "Collecting en-core-web-sm==3.8.0\n",
            "  Downloading https://github.com/explosion/spacy-models/releases/download/en_core_web_sm-3.8.0/en_core_web_sm-3.8.0-py3-none-any.whl (12.8 MB)\n",
            "\u001b[2K     \u001b[90m━━━━━━━━━━━━━━━━━━━━━━━━━━━━━━━━━━━━━━━━\u001b[0m \u001b[32m12.8/12.8 MB\u001b[0m \u001b[31m40.8 MB/s\u001b[0m eta \u001b[36m0:00:00\u001b[0m\n",
            "\u001b[?25h\u001b[38;5;2m✔ Download and installation successful\u001b[0m\n",
            "You can now load the package via spacy.load('en_core_web_sm')\n",
            "\u001b[38;5;3m⚠ Restart to reload dependencies\u001b[0m\n",
            "If you are in a Jupyter or Colab notebook, you may need to restart Python in\n",
            "order to load all the package's dependencies. You can do this by selecting the\n",
            "'Restart kernel' or 'Restart runtime' option.\n",
            "Setup complete!\n"
          ]
        }
      ],
      "source": [
        "# Install required libraries\n",
        "!pip install spacy PyPDF2 scikit-learn\n",
        "!python -m spacy download en_core_web_sm\n",
        "\n",
        "# Import libraries\n",
        "import spacy\n",
        "import PyPDF2\n",
        "from sklearn.feature_extraction.text import TfidfVectorizer  # Fixed typo\n",
        "from sklearn.metrics.pairwise import cosine_similarity\n",
        "import matplotlib.pyplot as plt\n",
        "from ipywidgets import FileUpload, Textarea, Button, Output\n",
        "from IPython.display import display\n",
        "\n",
        "print(\"Setup complete!\")\n",
        "from google.colab import output\n",
        "output.enable_custom_widget_manager()\n"
      ]
    },
    {
      "cell_type": "code",
      "execution_count": null,
      "metadata": {
        "colab": {
          "base_uri": "https://localhost:8080/"
        },
        "id": "2ShK99ZUi_PK",
        "outputId": "21ff7c93-5344-40c5-9639-e6e424eef242"
      },
      "outputs": [
        {
          "name": "stdout",
          "output_type": "stream",
          "text": [
            "Satish  Pakalapati  \n",
            "LinkedIn : www.linkedin.com/in/satishpakalapati  Email:  satishpakal apati65@gmail.com  \n",
            "GitHub:  https://github.com/Satish -970  Mobile:  +91 9666899631 \n",
            "Portfolio:  https://satishpakalapati.netlify.app/  \n",
            "SKILLS  \n",
            " \n",
            "Languages : \n",
            "Frameworks/Libraries: \n",
            "Tools/Platforms : \n",
            "Soft  Skills : Python,  Java,  R, SQL,  Scala,  HTML,  JS \n",
            "Num Py, Scikit -Learn, Spring, Pandas  \n",
            "Excel, Tableau, Jupyter Notebook, MySQL Workbench,  PostgreSQL,  Maven  \n",
            "Problem -Solving,  Team  Player,  \n"
          ]
        }
      ],
      "source": [
        "def extract_resume_text(pdf_path):\n",
        "    with open(pdf_path, 'rb') as file:  # Open in binary mode\n",
        "        reader = PyPDF2.PdfReader(file)\n",
        "        text = ''  # Initialize empty string\n",
        "        for page in reader.pages:  # Loop through each page\n",
        "            text += page.extract_text() + ' '  # Add page text\n",
        "    return text.strip()  # Remove extra spaces\n",
        "\n",
        "# Test it: Upload a PDF via Colab's left sidebar (Files > Upload), then run:\n",
        "resume_text = extract_resume_text('Resume.pdf')\n",
        "print(resume_text[:500])"
      ]
    },
    {
      "cell_type": "code",
      "execution_count": null,
      "metadata": {
        "colab": {
          "base_uri": "https://localhost:8080/"
        },
        "id": "OBg0PDkn4jx8",
        "outputId": "1df92121-8c08-48c4-fdd1-cc2983a56644"
      },
      "outputs": [
        {
          "name": "stdout",
          "output_type": "stream",
          "text": [
            "{'sql', 'machine', 'python', 'learning'}\n"
          ]
        }
      ],
      "source": [
        "nlp = spacy.load('en_core_web_sm')  # Load the spaCy model\n",
        "def extract_keywords(text):\n",
        "    \"\"\"\n",
        "    Extracts keywords (nouns, proper nouns, and custom skills) from text.\n",
        "    \"\"\"\n",
        "    doc = nlp(text.lower())  # Process text (lowercase for consistency)\n",
        "    keywords = set()  # Use set to avoid duplicates\n",
        "    for token in doc:  # Loop through tokens (words/phrases)\n",
        "        if token.pos_ in ['NOUN', 'PROPN'] or token.text in ['python', 'sql', 'machine learning', 'data analysis']:  # Filter for relevant parts\n",
        "            keywords.add(token.text)\n",
        "    return keywords\n",
        "# Test:\n",
        "sample_text = \"Experienced in Python and SQL. Skilled in machine learning.\"\n",
        "keywords = extract_keywords(sample_text)\n",
        "print(keywords)  # Output: {'python', 'sql', 'machine learning', ...}"
      ]
    },
    {
      "cell_type": "code",
      "execution_count": null,
      "metadata": {
        "colab": {
          "base_uri": "https://localhost:8080/"
        },
        "id": "Fvrqdztj53Jg",
        "outputId": "9768f6fc-2b79-4750-ca4e-c76755ccaf26"
      },
      "outputs": [
        {
          "name": "stdout",
          "output_type": "stream",
          "text": [
            "ATS Score: 38.76%\n"
          ]
        }
      ],
      "source": [
        "def calculate_ats_score(resume_text, job_description):\n",
        "    \"\"\"\n",
        "    Computes similarity score between resume and job description.\n",
        "    \"\"\"\n",
        "    documents = [resume_text, job_description]  # List of texts\n",
        "    vectorizer = TfidfVectorizer()  # Create TF-IDF vectorizer\n",
        "    tfidf_matrix = vectorizer.fit_transform(documents)  # Convert to vectors\n",
        "    similarity = cosine_similarity(tfidf_matrix[0:1], tfidf_matrix[1:2])[0][0]  # Calculate similarity\n",
        "    return similarity * 100  # Return as percentage\n",
        "\n",
        "# Test:\n",
        "job_desc = \"Requirements: Python, SQL, Machine Learning.\"\n",
        "score = calculate_ats_score(sample_text, job_desc)\n",
        "print(f\"ATS Score: {score:.2f}%\")"
      ]
    },
    {
      "cell_type": "markdown",
      "metadata": {
        "id": "K7p6ikS7iaIf"
      },
      "source": []
    },
    {
      "cell_type": "code",
      "execution_count": null,
      "metadata": {
        "colab": {
          "base_uri": "https://localhost:8080/"
        },
        "id": "Ype-fo0a6CMS",
        "outputId": "8b28c707-09cd-45c2-c141-c0280e5237eb"
      },
      "outputs": [
        {
          "name": "stdout",
          "output_type": "stream",
          "text": [
            "Suggestions: Add requirements to your resume.\n"
          ]
        }
      ],
      "source": [
        "def get_suggestions(resume_keywords, job_keywords):\n",
        "    \"\"\"\n",
        "    Finds keywords in job desc not in resume.\n",
        "    \"\"\"\n",
        "    missing = job_keywords - resume_keywords  # Set difference\n",
        "    if missing:\n",
        "        return f\"Suggestions: Add {', '.join(missing)} to your resume.\"\n",
        "    return \"Great match! No suggestions.\"\n",
        "\n",
        "# Test:\n",
        "resume_kw = extract_keywords(sample_text)\n",
        "job_kw = extract_keywords(job_desc)\n",
        "print(get_suggestions(resume_kw, job_kw))\n"
      ]
    },
    {
      "cell_type": "code",
      "execution_count": null,
      "metadata": {
        "colab": {
          "base_uri": "https://localhost:8080/",
          "height": 452
        },
        "id": "x1Zdkkj_6S6R",
        "outputId": "22662348-0186-4f90-e2be-acab19a0dc20"
      },
      "outputs": [
        {
          "data": {
            "image/png": "[encoded data removed]",
            "text/plain": [
              "<Figure size 640x480 with 1 Axes>"
            ]
          },
          "metadata": {},
          "output_type": "display_data"
        }
      ],
      "source": [
        "def visualize_score(score):\n",
        "    \"\"\"\n",
        "    Plots a bar chart of the ATS score.\n",
        "    \"\"\"\n",
        "    plt.bar(['ATS Score'], [score], color='skyblue')\n",
        "    plt.ylim(0, 100)  # Set y-axis limits\n",
        "    plt.ylabel('Match Percentage')\n",
        "    plt.title('Resume ATS Match Score')\n",
        "    plt.show()\n",
        "visualize_score(score)"
      ]
    },
    {
      "cell_type": "code",
      "execution_count": null,
      "metadata": {
        "colab": {
          "base_uri": "https://localhost:8080/",
          "height": 125,
          "referenced_widgets": [
            "feb5b264127f41049d8b05b1e2aacb90",
            "e3cbb4f22c5b4eff977a0b1da80d33c8",
            "7713360b09df4fa784e509c92f20647d",
            "30ff886800084c67a18de446e18859ea",
            "a61c2391e3a94bbfb07b4b23c60af696",
            "32848dfa360e44e6b92885d9a1c35f02",
            "2d31d723266d4c2c80d4505f6b03672e",
            "e6f443277c00486289e0dde38636b7b2",
            "2eed1e00a0cd43d185dafabab6f57857",
            "26a0f09cff934a9599284196d4c53fc2",
            "9f7f3cbf59b0401cb430f51bf897f407"
          ]
        },
        "id": "GVqoYocJ6m9Z",
        "outputId": "5ef8ba8d-b396-470b-ca77-59093922530a"
      },
      "outputs": [
        {
          "data": {
            "application/vnd.jupyter.widget-view+json": {
              "model_id": "feb5b264127f41049d8b05b1e2aacb90",
              "version_major": 2,
              "version_minor": 0
            },
            "text/plain": [
              "FileUpload(value={}, accept='.pdf', description='Upload Resume PDF')"
            ]
          },
          "metadata": {
            "application/vnd.jupyter.widget-view+json": {
              "colab": {
                "custom_widget_manager": {
                  "url": "https://ssl.gstatic.com/colaboratory-static/widgets/colab-cdn-widget-manager/2b70e893a8ba7c0f/manager.min.js"
                }
              }
            }
          },
          "output_type": "display_data"
        },
        {
          "data": {
            "application/vnd.jupyter.widget-view+json": {
              "model_id": "30ff886800084c67a18de446e18859ea",
              "version_major": 2,
              "version_minor": 0
            },
            "text/plain": [
              "Textarea(value='', description='Job Desc:', placeholder='Paste job description here')"
            ]
          },
          "metadata": {
            "application/vnd.jupyter.widget-view+json": {
              "colab": {
                "custom_widget_manager": {
                  "url": "https://ssl.gstatic.com/colaboratory-static/widgets/colab-cdn-widget-manager/2b70e893a8ba7c0f/manager.min.js"
                }
              }
            }
          },
          "output_type": "display_data"
        },
        {
          "data": {
            "application/vnd.jupyter.widget-view+json": {
              "model_id": "2d31d723266d4c2c80d4505f6b03672e",
              "version_major": 2,
              "version_minor": 0
            },
            "text/plain": [
              "Button(description='Check ATS Score', style=ButtonStyle())"
            ]
          },
          "metadata": {
            "application/vnd.jupyter.widget-view+json": {
              "colab": {
                "custom_widget_manager": {
                  "url": "https://ssl.gstatic.com/colaboratory-static/widgets/colab-cdn-widget-manager/2b70e893a8ba7c0f/manager.min.js"
                }
              }
            }
          },
          "output_type": "display_data"
        },
        {
          "data": {
            "application/vnd.jupyter.widget-view+json": {
              "model_id": "26a0f09cff934a9599284196d4c53fc2",
              "version_major": 2,
              "version_minor": 0
            },
            "text/plain": [
              "Output()"
            ]
          },
          "metadata": {
            "application/vnd.jupyter.widget-view+json": {
              "colab": {
                "custom_widget_manager": {
                  "url": "https://ssl.gstatic.com/colaboratory-static/widgets/colab-cdn-widget-manager/2b70e893a8ba7c0f/manager.min.js"
                }
              }
            }
          },
          "output_type": "display_data"
        }
      ],
      "source": [
        "upload = FileUpload(accept='.pdf', description='Upload Resume PDF')\n",
        "job_desc = Textarea(placeholder='Paste job description here', description='Job Desc:')\n",
        "button = Button(description='Check ATS Score')\n",
        "output = Output()\n",
        "\n",
        "def on_button_clicked(b):\n",
        "    with output:\n",
        "        output.clear_output()  # Clear previous output\n",
        "        if upload.value:\n",
        "            # Get uploaded file name and content\n",
        "            uploaded_file = list(upload.value.values())[0]\n",
        "            with open('temp_resume.pdf', 'wb') as f:\n",
        "                f.write(uploaded_file['content'])\n",
        "            resume_text = extract_resume_text('temp_resume.pdf')\n",
        "            job_text = job_desc.value\n",
        "            resume_keywords = extract_keywords(resume_text)\n",
        "            job_keywords = extract_keywords(job_text)\n",
        "            ats_score = calculate_ats_score(resume_text, job_text)\n",
        "            print(f\"ATS Match Score: {ats_score:.2f}%\")\n",
        "            print(get_suggestions(resume_keywords, job_keywords))\n",
        "            visualize_score(ats_score)\n",
        "        else:\n",
        "            print(\"Please upload a resume PDF.\")\n",
        "\n",
        "button.on_click(on_button_clicked)\n",
        "display(upload, job_desc, button, output)\n"
      ]
    },
    {
      "cell_type": "code",
      "execution_count": null,
      "metadata": {
        "colab": {
          "base_uri": "https://localhost:8080/"
        },
        "id": "wLdZ_CgR_evd",
        "outputId": "6dd5c616-98df-428a-cfd6-befc2169ecd7"
      },
      "outputs": [
        {
          "name": "stdout",
          "output_type": "stream",
          "text": [
            "Drive already mounted at /content/drive; to attempt to forcibly remount, call drive.mount(\"/content/drive\", force_remount=True).\n",
            "usage: jupyter-nbconvert [-h] [--debug] [--show-config] [--show-config-json]\n",
            "                         [--generate-config] [-y] [--execute] [--allow-errors]\n",
            "                         [--stdin] [--stdout] [--inplace] [--clear-output]\n",
            "                         [--coalesce-streams] [--no-prompt] [--no-input]\n",
            "                         [--allow-chromium-download]\n",
            "                         [--disable-chromium-sandbox] [--show-input]\n",
            "                         [--embed-images] [--sanitize-html]\n",
            "                         [--log-level NbConvertApp.log_level]\n",
            "                         [--config NbConvertApp.config_file]\n",
            "                         [--to NbConvertApp.export_format]\n",
            "                         [--template TemplateExporter.template_name]\n",
            "                         [--template-file TemplateExporter.template_file]\n",
            "                         [--theme HTMLExporter.theme]\n",
            "                         [--sanitize_html HTMLExporter.sanitize_html]\n",
            "                         [--writer NbConvertApp.writer_class]\n",
            "                         [--post NbConvertApp.postprocessor_class]\n",
            "                         [--output NbConvertApp.output_base]\n",
            "                         [--output-dir FilesWriter.build_directory]\n",
            "                         [--reveal-prefix SlidesExporter.reveal_url_prefix]\n",
            "                         [--nbformat NotebookExporter.nbformat_version]\n",
            "                         [extra_args ...]\n",
            "jupyter-nbconvert: error: unrecognized arguments: --clear-metadata\n",
            "Notebook metadata has been cleaned. Please refresh your notebook to see the changes.\n"
          ]
        }
      ],
      "source": [
        "from google.colab import drive\n",
        "import os\n",
        "import nbformat\n",
        "from nbconvert.preprocessors import ClearOutputPreprocessor\n",
        "\n",
        "# Mount Google Drive\n",
        "drive.mount('/content/drive')\n",
        "\n",
        "# Specify the full and correct path to the notebook file\n",
        "notebook_path = \"/content/drive/My Drive/Colab Notebooks/ATS.ipynb\"\n",
        "\n",
        "# Check if the notebook file exists to prevent a FileNotFoundError\n",
        "if os.path.exists(notebook_path):\n",
        "    # This command will remove all widget metadata, fixing the 'state' key error\n",
        "    !jupyter nbconvert --clear-metadata --inplace \"$notebook_path\"\n",
        "    print(\"Notebook metadata has been cleaned. Please refresh your notebook to see the changes.\")\n",
        "else:\n",
        "    print(f\"Error: The notebook file at '{notebook_path}' was not found.\")"
      ]
    }
  ],
  "metadata": {
    "colab": {
      "provenance": [],
      "toc_visible": true
    },
    "kernelspec": {
      "display_name": "Python 3",
      "name": "python3"
    },
    "language_info": {
      "name": "python"
    }
  },
  "nbformat": 4,
  "nbformat_minor": 0
}