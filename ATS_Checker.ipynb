{
  "nbformat": 4,
  "nbformat_minor": 0,
  "metadata": {
    "colab": {
      "provenance": [],
      "authorship_tag": "ABX9TyNh8PINBn6AKoAbXwhVE8Aj",
      "include_colab_link": true
    },
    "kernelspec": {
      "name": "python3",
      "display_name": "Python 3"
    },
    "language_info": {
      "name": "python"
    },
    "widgets": {
      "application/vnd.jupyter.widget-state+json": {
        "45e3d3608a6c40378932de9f2fdfc181": {
          "model_module": "@jupyter-widgets/controls",
          "model_name": "VBoxModel",
          "model_module_version": "1.5.0",
          "state": {
            "_dom_classes": [],
            "_model_module": "@jupyter-widgets/controls",
            "_model_module_version": "1.5.0",
            "_model_name": "VBoxModel",
            "_view_count": null,
            "_view_module": "@jupyter-widgets/controls",
            "_view_module_version": "1.5.0",
            "_view_name": "VBoxView",
            "box_style": "",
            "children": [
              "IPY_MODEL_502fcd668eae4d2f8c8083fc4eb28b12",
              "IPY_MODEL_7b47f822c2244c91a35ede094cdb93e4",
              "IPY_MODEL_9c42ad24bea2469a8c5d4b3f13077339",
              "IPY_MODEL_c46ea39ca04c4bec91861709611e6a20"
            ],
            "layout": "IPY_MODEL_35d174b858f543aa9bb7450513e697b9"
          }
        },
        "502fcd668eae4d2f8c8083fc4eb28b12": {
          "model_module": "@jupyter-widgets/controls",
          "model_name": "FileUploadModel",
          "model_module_version": "1.5.0",
          "state": {
            "_counter": 0,
            "_dom_classes": [],
            "_model_module": "@jupyter-widgets/controls",
            "_model_module_version": "1.5.0",
            "_model_name": "FileUploadModel",
            "_view_count": null,
            "_view_module": "@jupyter-widgets/controls",
            "_view_module_version": "1.5.0",
            "_view_name": "FileUploadView",
            "accept": ".pdf,.txt",
            "button_style": "",
            "data": [],
            "description": "Upload Resume (PDF/TXT)",
            "description_tooltip": null,
            "disabled": false,
            "error": "",
            "icon": "upload",
            "layout": "IPY_MODEL_3c839cd8be7c4e1996c9e6906613c65e",
            "metadata": [],
            "multiple": false,
            "style": "IPY_MODEL_e779b324e787456c8d3ecc614113e0a4"
          }
        },
        "7b47f822c2244c91a35ede094cdb93e4": {
          "model_module": "@jupyter-widgets/controls",
          "model_name": "TextModel",
          "model_module_version": "1.5.0",
          "state": {
            "_dom_classes": [],
            "_model_module": "@jupyter-widgets/controls",
            "_model_module_version": "1.5.0",
            "_model_name": "TextModel",
            "_view_count": null,
            "_view_module": "@jupyter-widgets/controls",
            "_view_module_version": "1.5.0",
            "_view_name": "TextView",
            "continuous_update": true,
            "description": "Job Desc/URL:",
            "description_tooltip": null,
            "disabled": false,
            "layout": "IPY_MODEL_f4ef25e919614c8581c8ab00d247c685",
            "placeholder": "Paste job description or URL",
            "style": "IPY_MODEL_7c024363d935489ca43bc7b87f33241f",
            "value": ""
          }
        },
        "9c42ad24bea2469a8c5d4b3f13077339": {
          "model_module": "@jupyter-widgets/controls",
          "model_name": "ButtonModel",
          "model_module_version": "1.5.0",
          "state": {
            "_dom_classes": [],
            "_model_module": "@jupyter-widgets/controls",
            "_model_module_version": "1.5.0",
            "_model_name": "ButtonModel",
            "_view_count": null,
            "_view_module": "@jupyter-widgets/controls",
            "_view_module_version": "1.5.0",
            "_view_name": "ButtonView",
            "button_style": "",
            "description": "Check ATS Score",
            "disabled": false,
            "icon": "",
            "layout": "IPY_MODEL_8f943daeca704f569272ecee9f3093b4",
            "style": "IPY_MODEL_5fb0fa1c64b442c8bc9a7237f95c9c52",
            "tooltip": ""
          }
        },
        "c46ea39ca04c4bec91861709611e6a20": {
          "model_module": "@jupyter-widgets/output",
          "model_name": "OutputModel",
          "model_module_version": "1.0.0",
          "state": {
            "_dom_classes": [],
            "_model_module": "@jupyter-widgets/output",
            "_model_module_version": "1.0.0",
            "_model_name": "OutputModel",
            "_view_count": null,
            "_view_module": "@jupyter-widgets/output",
            "_view_module_version": "1.0.0",
            "_view_name": "OutputView",
            "layout": "IPY_MODEL_b72c80af1ac344d9943ad530fab792fe",
            "msg_id": "",
            "outputs": []
          }
        },
        "35d174b858f543aa9bb7450513e697b9": {
          "model_module": "@jupyter-widgets/base",
          "model_name": "LayoutModel",
          "model_module_version": "1.2.0",
          "state": {
            "_model_module": "@jupyter-widgets/base",
            "_model_module_version": "1.2.0",
            "_model_name": "LayoutModel",
            "_view_count": null,
            "_view_module": "@jupyter-widgets/base",
            "_view_module_version": "1.2.0",
            "_view_name": "LayoutView",
            "align_content": null,
            "align_items": null,
            "align_self": null,
            "border": null,
            "bottom": null,
            "display": null,
            "flex": null,
            "flex_flow": null,
            "grid_area": null,
            "grid_auto_columns": null,
            "grid_auto_flow": null,
            "grid_auto_rows": null,
            "grid_column": null,
            "grid_gap": null,
            "grid_row": null,
            "grid_template_areas": null,
            "grid_template_columns": null,
            "grid_template_rows": null,
            "height": null,
            "justify_content": null,
            "justify_items": null,
            "left": null,
            "margin": null,
            "max_height": null,
            "max_width": null,
            "min_height": null,
            "min_width": null,
            "object_fit": null,
            "object_position": null,
            "order": null,
            "overflow": null,
            "overflow_x": null,
            "overflow_y": null,
            "padding": null,
            "right": null,
            "top": null,
            "visibility": null,
            "width": null
          }
        },
        "3c839cd8be7c4e1996c9e6906613c65e": {
          "model_module": "@jupyter-widgets/base",
          "model_name": "LayoutModel",
          "model_module_version": "1.2.0",
          "state": {
            "_model_module": "@jupyter-widgets/base",
            "_model_module_version": "1.2.0",
            "_model_name": "LayoutModel",
            "_view_count": null,
            "_view_module": "@jupyter-widgets/base",
            "_view_module_version": "1.2.0",
            "_view_name": "LayoutView",
            "align_content": null,
            "align_items": null,
            "align_self": null,
            "border": null,
            "bottom": null,
            "display": null,
            "flex": null,
            "flex_flow": null,
            "grid_area": null,
            "grid_auto_columns": null,
            "grid_auto_flow": null,
            "grid_auto_rows": null,
            "grid_column": null,
            "grid_gap": null,
            "grid_row": null,
            "grid_template_areas": null,
            "grid_template_columns": null,
            "grid_template_rows": null,
            "height": null,
            "justify_content": null,
            "justify_items": null,
            "left": null,
            "margin": null,
            "max_height": null,
            "max_width": null,
            "min_height": null,
            "min_width": null,
            "object_fit": null,
            "object_position": null,
            "order": null,
            "overflow": null,
            "overflow_x": null,
            "overflow_y": null,
            "padding": null,
            "right": null,
            "top": null,
            "visibility": null,
            "width": null
          }
        },
        "e779b324e787456c8d3ecc614113e0a4": {
          "model_module": "@jupyter-widgets/controls",
          "model_name": "ButtonStyleModel",
          "model_module_version": "1.5.0",
          "state": {
            "_model_module": "@jupyter-widgets/controls",
            "_model_module_version": "1.5.0",
            "_model_name": "ButtonStyleModel",
            "_view_count": null,
            "_view_module": "@jupyter-widgets/base",
            "_view_module_version": "1.2.0",
            "_view_name": "StyleView",
            "button_color": null,
            "font_weight": ""
          }
        },
        "f4ef25e919614c8581c8ab00d247c685": {
          "model_module": "@jupyter-widgets/base",
          "model_name": "LayoutModel",
          "model_module_version": "1.2.0",
          "state": {
            "_model_module": "@jupyter-widgets/base",
            "_model_module_version": "1.2.0",
            "_model_name": "LayoutModel",
            "_view_count": null,
            "_view_module": "@jupyter-widgets/base",
            "_view_module_version": "1.2.0",
            "_view_name": "LayoutView",
            "align_content": null,
            "align_items": null,
            "align_self": null,
            "border": null,
            "bottom": null,
            "display": null,
            "flex": null,
            "flex_flow": null,
            "grid_area": null,
            "grid_auto_columns": null,
            "grid_auto_flow": null,
            "grid_auto_rows": null,
            "grid_column": null,
            "grid_gap": null,
            "grid_row": null,
            "grid_template_areas": null,
            "grid_template_columns": null,
            "grid_template_rows": null,
            "height": null,
            "justify_content": null,
            "justify_items": null,
            "left": null,
            "margin": null,
            "max_height": null,
            "max_width": null,
            "min_height": null,
            "min_width": null,
            "object_fit": null,
            "object_position": null,
            "order": null,
            "overflow": null,
            "overflow_x": null,
            "overflow_y": null,
            "padding": null,
            "right": null,
            "top": null,
            "visibility": null,
            "width": null
          }
        },
        "7c024363d935489ca43bc7b87f33241f": {
          "model_module": "@jupyter-widgets/controls",
          "model_name": "DescriptionStyleModel",
          "model_module_version": "1.5.0",
          "state": {
            "_model_module": "@jupyter-widgets/controls",
            "_model_module_version": "1.5.0",
            "_model_name": "DescriptionStyleModel",
            "_view_count": null,
            "_view_module": "@jupyter-widgets/base",
            "_view_module_version": "1.2.0",
            "_view_name": "StyleView",
            "description_width": ""
          }
        },
        "8f943daeca704f569272ecee9f3093b4": {
          "model_module": "@jupyter-widgets/base",
          "model_name": "LayoutModel",
          "model_module_version": "1.2.0",
          "state": {
            "_model_module": "@jupyter-widgets/base",
            "_model_module_version": "1.2.0",
            "_model_name": "LayoutModel",
            "_view_count": null,
            "_view_module": "@jupyter-widgets/base",
            "_view_module_version": "1.2.0",
            "_view_name": "LayoutView",
            "align_content": null,
            "align_items": null,
            "align_self": null,
            "border": null,
            "bottom": null,
            "display": null,
            "flex": null,
            "flex_flow": null,
            "grid_area": null,
            "grid_auto_columns": null,
            "grid_auto_flow": null,
            "grid_auto_rows": null,
            "grid_column": null,
            "grid_gap": null,
            "grid_row": null,
            "grid_template_areas": null,
            "grid_template_columns": null,
            "grid_template_rows": null,
            "height": null,
            "justify_content": null,
            "justify_items": null,
            "left": null,
            "margin": null,
            "max_height": null,
            "max_width": null,
            "min_height": null,
            "min_width": null,
            "object_fit": null,
            "object_position": null,
            "order": null,
            "overflow": null,
            "overflow_x": null,
            "overflow_y": null,
            "padding": null,
            "right": null,
            "top": null,
            "visibility": null,
            "width": null
          }
        },
        "5fb0fa1c64b442c8bc9a7237f95c9c52": {
          "model_module": "@jupyter-widgets/controls",
          "model_name": "ButtonStyleModel",
          "model_module_version": "1.5.0",
          "state": {
            "_model_module": "@jupyter-widgets/controls",
            "_model_module_version": "1.5.0",
            "_model_name": "ButtonStyleModel",
            "_view_count": null,
            "_view_module": "@jupyter-widgets/base",
            "_view_module_version": "1.2.0",
            "_view_name": "StyleView",
            "button_color": null,
            "font_weight": ""
          }
        },
        "b72c80af1ac344d9943ad530fab792fe": {
          "model_module": "@jupyter-widgets/base",
          "model_name": "LayoutModel",
          "model_module_version": "1.2.0",
          "state": {
            "_model_module": "@jupyter-widgets/base",
            "_model_module_version": "1.2.0",
            "_model_name": "LayoutModel",
            "_view_count": null,
            "_view_module": "@jupyter-widgets/base",
            "_view_module_version": "1.2.0",
            "_view_name": "LayoutView",
            "align_content": null,
            "align_items": null,
            "align_self": null,
            "border": null,
            "bottom": null,
            "display": null,
            "flex": null,
            "flex_flow": null,
            "grid_area": null,
            "grid_auto_columns": null,
            "grid_auto_flow": null,
            "grid_auto_rows": null,
            "grid_column": null,
            "grid_gap": null,
            "grid_row": null,
            "grid_template_areas": null,
            "grid_template_columns": null,
            "grid_template_rows": null,
            "height": null,
            "justify_content": null,
            "justify_items": null,
            "left": null,
            "margin": null,
            "max_height": null,
            "max_width": null,
            "min_height": null,
            "min_width": null,
            "object_fit": null,
            "object_position": null,
            "order": null,
            "overflow": null,
            "overflow_x": null,
            "overflow_y": null,
            "padding": null,
            "right": null,
            "top": null,
            "visibility": null,
            "width": null
          }
        }
      }
    }
  },
  "cells": [
    {
      "cell_type": "markdown",
      "metadata": {
        "id": "view-in-github",
        "colab_type": "text"
      },
      "source": [
        "<a href=\"https://colab.research.google.com/github/Satish-970/ats_resume_checker/blob/main/ATS_Checker.ipynb\" target=\"_parent\"><img src=\"https://colab.research.google.com/assets/colab-badge.svg\" alt=\"Open In Colab\"/></a>"
      ]
    },
    {
      "cell_type": "code",
      "execution_count": 11,
      "metadata": {
        "colab": {
          "base_uri": "https://localhost:8080/"
        },
        "id": "Q5Luw1cb6myY",
        "outputId": "45be210b-fb4d-4608-9235-8e4b0bdaeac8"
      },
      "outputs": [
        {
          "output_type": "stream",
          "name": "stdout",
          "text": [
            "W: Skipping acquire of configured file 'main/source/Sources' as repository 'https://r2u.stat.illinois.edu/ubuntu jammy InRelease' does not seem to provide it (sources.list entry misspelt?)\n",
            "Selecting previously unselected package openjdk-17-jre-headless:amd64.\n",
            "(Reading database ... 126380 files and directories currently installed.)\n",
            "Preparing to unpack .../openjdk-17-jre-headless_17.0.16+8~us1-0ubuntu1~22.04.1_amd64.deb ...\n",
            "Unpacking openjdk-17-jre-headless:amd64 (17.0.16+8~us1-0ubuntu1~22.04.1) ...\n",
            "Setting up openjdk-17-jre-headless:amd64 (17.0.16+8~us1-0ubuntu1~22.04.1) ...\n",
            "update-alternatives: using /usr/lib/jvm/java-17-openjdk-amd64/bin/java to provide /usr/bin/java (java) in auto mode\n",
            "update-alternatives: using /usr/lib/jvm/java-17-openjdk-amd64/bin/jpackage to provide /usr/bin/jpackage (jpackage) in auto mode\n",
            "update-alternatives: using /usr/lib/jvm/java-17-openjdk-amd64/bin/keytool to provide /usr/bin/keytool (keytool) in auto mode\n",
            "update-alternatives: using /usr/lib/jvm/java-17-openjdk-amd64/bin/rmiregistry to provide /usr/bin/rmiregistry (rmiregistry) in auto mode\n",
            "update-alternatives: using /usr/lib/jvm/java-17-openjdk-amd64/lib/jexec to provide /usr/bin/jexec (jexec) in auto mode\n",
            "openjdk version \"17.0.16\" 2025-07-15\n",
            "OpenJDK Runtime Environment (build 17.0.16+8-Ubuntu-0ubuntu122.04.1)\n",
            "OpenJDK 64-Bit Server VM (build 17.0.16+8-Ubuntu-0ubuntu122.04.1, mixed mode, sharing)\n",
            "\u001b[2K     \u001b[90m━━━━━━━━━━━━━━━━━━━━━━━━━━━━━━━━━━━━━━━\u001b[0m \u001b[32m12.8/12.8 MB\u001b[0m \u001b[31m106.8 MB/s\u001b[0m eta \u001b[36m0:00:00\u001b[0m\n",
            "\u001b[?25h\u001b[38;5;2m✔ Download and installation successful\u001b[0m\n",
            "You can now load the package via spacy.load('en_core_web_sm')\n",
            "\u001b[38;5;3m⚠ Restart to reload dependencies\u001b[0m\n",
            "If you are in a Jupyter or Colab notebook, you may need to restart Python in\n",
            "order to load all the package's dependencies. You can do this by selecting the\n",
            "'Restart kernel' or 'Restart runtime' option.\n"
          ]
        }
      ],
      "source": [
        "# Install required libraries\n",
        "# Install required libraries and Java 17\n",
        "!apt-get update -qq\n",
        "!apt-get install -qq openjdk-17-jre-headless\n",
        "!java -version  # Verify Java version\n",
        "\n",
        "\n",
        "\n",
        "# Import libraries\n",
        "import spacy\n",
        "import PyPDF2\n",
        "import requests\n",
        "from bs4 import BeautifulSoup\n",
        "import language_tool_python\n",
        "from sklearn.feature_extraction.text import TfidfVectorizer\n",
        "from sklearn.metrics.pairwise import cosine_similarity\n",
        "import matplotlib.pyplot as plt\n",
        "from ipywidgets import FileUpload, Textarea, Text, Button, Output, VBox\n",
        "from IPython.display import display\n",
        "import re\n",
        "import os"
      ]
    },
    {
      "cell_type": "code",
      "source": [
        "def extract_resume_text(file_path):\n",
        "    \"\"\"\n",
        "    Extracts text from a PDF or text file resume.\n",
        "    \"\"\"\n",
        "    try:\n",
        "        if file_path.endswith('.pdf'):\n",
        "            with open(file_path, 'rb') as file:\n",
        "                reader = PyPDF2.PdfReader(file)\n",
        "                text = ''\n",
        "                for page in reader.pages:\n",
        "                    extracted = page.extract_text()\n",
        "                    if extracted:\n",
        "                        text += extracted + ' '\n",
        "        elif file_path.endswith('.txt'):\n",
        "            with open(file_path, 'r', encoding='utf-8') as file:\n",
        "                text = file.read()\n",
        "        else:\n",
        "            return None, \"Unsupported file format. Use PDF or TXT.\"\n",
        "        return text.strip(), None\n",
        "    except Exception as e:\n",
        "        return None, f\"Error reading file: {str(e)}\""
      ],
      "metadata": {
        "id": "lV1dCGX665QS"
      },
      "execution_count": 2,
      "outputs": []
    },
    {
      "cell_type": "code",
      "source": [
        "def extract_job_description(input_text):\n",
        "    \"\"\"\n",
        "    Extracts job description from text or URL.\n",
        "    \"\"\"\n",
        "    try:\n",
        "        if input_text.startswith(('http://', 'https://')):\n",
        "            response = requests.get(input_text, timeout=10)\n",
        "            response.raise_for_status()\n",
        "            soup = BeautifulSoup(response.text, 'html.parser')\n",
        "            # Target common job description containers (customize as needed)\n",
        "            job_text = ''\n",
        "            for tag in soup.find_all(['p', 'div', 'li']):\n",
        "                if len(tag.get_text().split()) > 10:  # Filter short fragments\n",
        "                    job_text += tag.get_text() + ' '\n",
        "            return job_text.strip(), None\n",
        "        else:\n",
        "            return input_text.strip(), None\n",
        "    except Exception as e:\n",
        "        return None, f\"Error processing job description: {str(e)}\""
      ],
      "metadata": {
        "id": "Xv1Q2zUl68rJ"
      },
      "execution_count": 3,
      "outputs": []
    },
    {
      "cell_type": "code",
      "source": [
        "nlp = spacy.load('en_core_web_sm')  # Load spaCy model\n",
        "\n",
        "def extract_keywords(text):\n",
        "    \"\"\"\n",
        "    Extracts keywords (nouns, proper nouns, and custom skills) from text.\n",
        "    \"\"\"\n",
        "    if not text:\n",
        "        return set()\n",
        "    doc = nlp(text.lower())\n",
        "    keywords = set()\n",
        "    custom_skills = {'python', 'sql', 'machine learning', 'data analysis', 'java', 'aws', 'tableau', 'tensorflow'}\n",
        "    for token in doc:\n",
        "        if token.pos_ in ['NOUN', 'PROPN'] or token.text in custom_skills:\n",
        "            keywords.add(token.text)\n",
        "    return keywords"
      ],
      "metadata": {
        "id": "ykCMeOt97AXG"
      },
      "execution_count": 4,
      "outputs": []
    },
    {
      "cell_type": "code",
      "source": [
        "def calculate_ats_score(resume_text, job_description):\n",
        "    \"\"\"\n",
        "    Computes similarity score between resume and job description.\n",
        "    \"\"\"\n",
        "    if not resume_text or not job_description:\n",
        "        return 0.0\n",
        "    documents = [resume_text, job_description]\n",
        "    vectorizer = TfidfVectorizer(stop_words='english')\n",
        "    tfidf_matrix = vectorizer.fit_transform(documents)\n",
        "    similarity = cosine_similarity(tfidf_matrix[0:1], tfidf_matrix[1:2])[0][0]\n",
        "    return similarity * 100"
      ],
      "metadata": {
        "id": "2EYjKgFR7Dcg"
      },
      "execution_count": 5,
      "outputs": []
    },
    {
      "cell_type": "code",
      "source": [
        "def get_suggestions(resume_keywords, job_keywords):\n",
        "    \"\"\"\n",
        "    Finds keywords in job description not in resume.\n",
        "    \"\"\"\n",
        "    missing = job_keywords - resume_keywords\n",
        "    if missing:\n",
        "        return f\"Suggestions: Add {', '.join(sorted(missing))} to your resume for better alignment.\"\n",
        "    return \"Great match! No suggestions needed.\""
      ],
      "metadata": {
        "id": "uimQFUmz7GvA"
      },
      "execution_count": 6,
      "outputs": []
    },
    {
      "cell_type": "code",
      "source": [
        "def check_grammar(text):\n",
        "    \"\"\"\n",
        "    Checks grammar and spelling in the resume text.\n",
        "    \"\"\"\n",
        "    tool = language_tool_python.LanguageTool('en-US')\n",
        "    matches = tool.check(text)\n",
        "    if not matches:\n",
        "        return \"No grammar or spelling issues found.\"\n",
        "    suggestions = []\n",
        "    for match in matches:\n",
        "        suggestions.append(f\"Issue: {match.message} at '{text[match.offset:match.offset+match.errorLength]}'. Suggestion: {match.replacements}\")\n",
        "    return \"\\n\".join(suggestions)"
      ],
      "metadata": {
        "id": "WOwO5uGN7JoF"
      },
      "execution_count": 7,
      "outputs": []
    },
    {
      "cell_type": "code",
      "source": [
        "def visualize_score(score):\n",
        "    \"\"\"\n",
        "    Plots a bar chart of the ATS score.\n",
        "    \"\"\"\n",
        "    plt.figure(figsize=(6, 4))\n",
        "    plt.bar(['ATS Score'], [score], color='skyblue')\n",
        "    plt.ylim(0, 100)\n",
        "    plt.ylabel('Match Percentage')\n",
        "    plt.title('Resume ATS Match Score')\n",
        "    plt.show()"
      ],
      "metadata": {
        "id": "fczh5Zj-7Mdy"
      },
      "execution_count": 8,
      "outputs": []
    },
    {
      "cell_type": "code",
      "source": [
        "\n",
        "# Install required Python libraries\n",
        "!pip install spacy pypdf2 scikit-learn language-tool-python requests beautifulsoup4 -qq\n",
        "\n",
        "!python -m spacy download en_core_web_sm -qq"
      ],
      "metadata": {
        "colab": {
          "base_uri": "https://localhost:8080/"
        },
        "id": "M4Karjtm85D1",
        "outputId": "160691c5-59d1-4a90-e3da-e74b7ff4b7ab"
      },
      "execution_count": 13,
      "outputs": [
        {
          "output_type": "stream",
          "name": "stdout",
          "text": [
            "\u001b[38;5;2m✔ Download and installation successful\u001b[0m\n",
            "You can now load the package via spacy.load('en_core_web_sm')\n",
            "\u001b[38;5;3m⚠ Restart to reload dependencies\u001b[0m\n",
            "If you are in a Jupyter or Colab notebook, you may need to restart Python in\n",
            "order to load all the package's dependencies. You can do this by selecting the\n",
            "'Restart kernel' or 'Restart runtime' option.\n"
          ]
        }
      ]
    },
    {
      "cell_type": "code",
      "source": [
        "# Create widgets\n",
        "upload = FileUpload(accept='.pdf,.txt', description='Upload Resume (PDF/TXT)')\n",
        "job_desc = Text(placeholder='Paste job description or URL', description='Job Desc/URL:')\n",
        "button = Button(description='Check ATS Score')\n",
        "output = Output()\n",
        "\n",
        "def on_button_clicked(b):\n",
        "    with output:\n",
        "        output.clear_output()\n",
        "        if not upload.value:\n",
        "            print(\"Please upload a resume (PDF or TXT).\")\n",
        "            return\n",
        "\n",
        "        # Process uploaded resume\n",
        "        try:\n",
        "            uploaded_file = list(upload.value.values())[0]\n",
        "            file_name = uploaded_file.get('metadata', {}).get('name', 'temp_resume')\n",
        "            file_extension = os.path.splitext(file_name)[1] if file_name else '.pdf'\n",
        "            temp_file_name = f'temp_resume{file_extension}'\n",
        "            with open(temp_file_name, 'wb') as f:\n",
        "                f.write(uploaded_file['content'])\n",
        "\n",
        "            resume_text, resume_error = extract_resume_text(temp_file_name)\n",
        "            if resume_error:\n",
        "                print(f\"Error processing resume: {resume_error}\")\n",
        "                return\n",
        "        except Exception as e:\n",
        "            print(f\"Failed to process uploaded file: {str(e)}\")\n",
        "            return\n",
        "\n",
        "        # Process job description\n",
        "        job_input = job_desc.value.strip()\n",
        "        if not job_input:\n",
        "            print(\"No job description provided. Performing grammar check on resume.\")\n",
        "            print(check_grammar(resume_text))\n",
        "            return\n",
        "\n",
        "        job_text, job_error = extract_job_description(job_input)\n",
        "        if job_error:\n",
        "            print(f\"Error processing job description: {job_error}\")\n",
        "            return\n",
        "\n",
        "        # Calculate ATS score and suggestions\n",
        "        resume_keywords = extract_keywords(resume_text)\n",
        "        job_keywords = extract_keywords(job_text)\n",
        "        ats_score = calculate_ats_score(resume_text, job_text)\n",
        "        print(f\"ATS Match Score: {ats_score:.2f}%\")\n",
        "        print(get_suggestions(resume_keywords, job_keywords))\n",
        "        print(\"\\nResume Grammar Check:\")\n",
        "        print(check_grammar(resume_text))\n",
        "        visualize_score(ats_score)\n",
        "\n",
        "button.on_click(on_button_clicked)\n",
        "display(VBox([upload, job_desc, button, output]))"
      ],
      "metadata": {
        "colab": {
          "base_uri": "https://localhost:8080/",
          "height": 113,
          "referenced_widgets": [
            "45e3d3608a6c40378932de9f2fdfc181",
            "502fcd668eae4d2f8c8083fc4eb28b12",
            "7b47f822c2244c91a35ede094cdb93e4",
            "9c42ad24bea2469a8c5d4b3f13077339",
            "c46ea39ca04c4bec91861709611e6a20",
            "35d174b858f543aa9bb7450513e697b9",
            "3c839cd8be7c4e1996c9e6906613c65e",
            "e779b324e787456c8d3ecc614113e0a4",
            "f4ef25e919614c8581c8ab00d247c685",
            "7c024363d935489ca43bc7b87f33241f",
            "8f943daeca704f569272ecee9f3093b4",
            "5fb0fa1c64b442c8bc9a7237f95c9c52",
            "b72c80af1ac344d9943ad530fab792fe"
          ]
        },
        "id": "MXu4LISl7PXy",
        "outputId": "4cb4b05f-f607-4eeb-bc6b-8f7a11611709"
      },
      "execution_count": 14,
      "outputs": [
        {
          "output_type": "display_data",
          "data": {
            "text/plain": [
              "VBox(children=(FileUpload(value={}, accept='.pdf,.txt', description='Upload Resume (PDF/TXT)'), Text(value='',…"
            ],
            "application/vnd.jupyter.widget-view+json": {
              "version_major": 2,
              "version_minor": 0,
              "model_id": "45e3d3608a6c40378932de9f2fdfc181"
            }
          },
          "metadata": {}
        }
      ]
    }
  ]
}